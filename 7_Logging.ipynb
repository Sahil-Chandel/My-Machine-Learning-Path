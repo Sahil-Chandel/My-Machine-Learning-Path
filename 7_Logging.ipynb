{
  "cells": [
    {
      "cell_type": "markdown",
      "metadata": {
        "id": "DXYPwreeeScF"
      },
      "source": [
        "# **Python Logging**\n",
        "Logging is a crucial aspect of any application, providing a way to track events, errors and operational information. Python's built-in logging module offers a flexible framework for emitting log message from python program. In this lesson, we will cover the basics of logging, including how to configure logging, log levels and best practices for using logging in python application."
      ]
    },
    {
      "cell_type": "code",
      "execution_count": 1,
      "metadata": {
        "colab": {
          "base_uri": "https://localhost:8080/"
        },
        "id": "QpK1VwZCeMq9",
        "outputId": "21ac9d39-09f9-4b1c-ef1a-0ca42b7e003f"
      },
      "outputs": [
        {
          "name": "stderr",
          "output_type": "stream",
          "text": [
            "DEBUG:root:This is a Debug Message\n",
            "INFO:root:This is an info Message\n",
            "WARNING:root:This is a warning Message\n",
            "ERROR:root:This is an error Message\n",
            "CRITICAL:root:This is a critical message\n"
          ]
        }
      ],
      "source": [
        "import logging\n",
        "\n",
        "##Configure the basic logging setting\n",
        "logging.basicConfig(level=logging.DEBUG)\n",
        "\n",
        "## log messages with different severity levels\n",
        "logging.debug(\"This is a Debug Message\")\n",
        "logging.info(\"This is an info Message\")\n",
        "logging.warning(\"This is a warning Message\")\n",
        "logging.error(\"This is an error Message\")\n",
        "logging.critical(\"This is a critical message\")"
      ]
    },
    {
      "cell_type": "markdown",
      "metadata": {
        "id": "ARdfIWwnjJI_"
      },
      "source": [
        "# **Log Levels**\n",
        "\n",
        "\n",
        "**Notset = 0:** This is the initial default setting of a log when it is created. It is not really relevant and most developers will not even take notice of this category. In many circles, it has already become nonessential. The root log is usually created with level WARNING.\n",
        "\n",
        "**Debug = 10:** This level gives detailed information, useful only when a problem is being diagnosed.\n",
        "\n",
        "**Info = 20:** This is used to confirm that everything is working as it should.\n",
        "\n",
        "**Warning = 30:** This level indicates that something unexpected has happened or some problem is about to happen in the near future.\n",
        "\n",
        "**Error = 40:** As it implies, an error has occurred. The software was unable to perform some function.\n",
        "\n",
        "**Critical = 50:** A serious error has occurred. The program itself may shut down or not be able to continue running properly."
      ]
    },
    {
      "cell_type": "code",
      "execution_count": 2,
      "metadata": {
        "colab": {
          "base_uri": "https://localhost:8080/"
        },
        "id": "OrRWQ3KBfovE",
        "outputId": "d6a4e44e-8bcb-4399-84b9-27991f3ed7cc"
      },
      "outputs": [
        {
          "name": "stderr",
          "output_type": "stream",
          "text": [
            "DEBUG:root:This is a Debug Message\n",
            "INFO:root:This is an info Message\n",
            "WARNING:root:This is a warning Message\n",
            "ERROR:root:This is an error Message\n",
            "CRITICAL:root:This is a critical message\n"
          ]
        }
      ],
      "source": [
        "import logging\n",
        "\n",
        "## Configuring logging\n",
        "logging.basicConfig(\n",
        "                     filename='app.log',\n",
        "                     filemode='w',\n",
        "                     level=logging.DEBUG,\n",
        "                     format = '%(asctime)s-%(levelname)s-%(message)s',\n",
        "                     datefmt = '%Y-%m-%d %H:%M:%S'\n",
        ")\n",
        "\n",
        "\n",
        "## log messages with different severity levels\n",
        "logging.debug(\"This is a Debug Message\")\n",
        "logging.info(\"This is an info Message\")\n",
        "logging.warning(\"This is a warning Message\")\n",
        "logging.error(\"This is an error Message\")\n",
        "logging.critical(\"This is a critical message\")"
      ]
    },
    {
      "cell_type": "code",
      "execution_count": null,
      "metadata": {
        "id": "DkAyro5PmXOy"
      },
      "outputs": [],
      "source": []
    }
  ],
  "metadata": {
    "colab": {
      "provenance": []
    },
    "kernelspec": {
      "display_name": "Python 3",
      "name": "python3"
    },
    "language_info": {
      "codemirror_mode": {
        "name": "ipython",
        "version": 3
      },
      "file_extension": ".py",
      "mimetype": "text/x-python",
      "name": "python",
      "nbconvert_exporter": "python",
      "pygments_lexer": "ipython3",
      "version": "3.12.4"
    }
  },
  "nbformat": 4,
  "nbformat_minor": 0
}

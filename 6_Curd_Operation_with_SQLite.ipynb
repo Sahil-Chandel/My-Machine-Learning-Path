{
 "cells": [
  {
   "cell_type": "markdown",
   "metadata": {
    "id": "704denBzvSf0"
   },
   "source": [
    "Structured query language (SQL) is a programming language for storing and processing information in a relational database. A relational database stores information in tabular form, with rows and columns representing different data attributes and the various relationships between the data values. You can use SQL statements to store, update, remove, search, and retrieve information from the database."
   ]
  },
  {
   "cell_type": "code",
   "execution_count": 57,
   "metadata": {
    "id": "fc7ZXQ2klDZq"
   },
   "outputs": [],
   "source": [
    "import sqlite3"
   ]
  },
  {
   "cell_type": "code",
   "execution_count": 59,
   "metadata": {
    "colab": {
     "base_uri": "https://localhost:8080/"
    },
    "id": "uKaxhDEvxT6U",
    "outputId": "2922922c-5d27-4d19-88f6-a373f65408d7"
   },
   "outputs": [
    {
     "data": {
      "text/plain": [
       "<sqlite3.Connection at 0x1bf35915990>"
      ]
     },
     "execution_count": 59,
     "metadata": {},
     "output_type": "execute_result"
    }
   ],
   "source": [
    "## Connect to an SQLite database\n",
    "connection=sqlite3.connect('example.db',timeout=10)\n",
    "connection"
   ]
  },
  {
   "cell_type": "code",
   "execution_count": 61,
   "metadata": {
    "id": "eAERE0m2xm8a"
   },
   "outputs": [],
   "source": [
    "cursor=connection.cursor()"
   ]
  },
  {
   "cell_type": "code",
   "execution_count": 63,
   "metadata": {
    "colab": {
     "base_uri": "https://localhost:8080/"
    },
    "id": "oZFexj2XyXM4",
    "outputId": "8fddf56b-b1c8-4321-84f3-c0893d16230b"
   },
   "outputs": [
    {
     "data": {
      "text/plain": [
       "<sqlite3.Cursor at 0x1bf3598b740>"
      ]
     },
     "execution_count": 63,
     "metadata": {},
     "output_type": "execute_result"
    }
   ],
   "source": [
    "## Create a Table\n",
    "cursor.execute('''\n",
    "Create Table If Not Exists employees(\n",
    "        id Integers Primary Key,\n",
    "        name Text Not Null,\n",
    "        age Integer,\n",
    "        department text\n",
    "        )\n",
    "   ''')\n",
    "\n"
   ]
  },
  {
   "cell_type": "code",
   "execution_count": 65,
   "metadata": {
    "id": "HV1hEUAOJFNE"
   },
   "outputs": [],
   "source": [
    "##commit the changes\n",
    "connection.commit()"
   ]
  },
  {
   "cell_type": "code",
   "execution_count": 75,
   "metadata": {
    "colab": {
     "base_uri": "https://localhost:8080/",
     "height": 220
    },
    "id": "sGWXXF1nFBPB",
    "outputId": "6718891d-f5c8-4c3d-b440-d58fbfcb03a4"
   },
   "outputs": [],
   "source": [
    "## Insert the data in sqlite table\n",
    "cursor.execute('''\n",
    "Insert Into employees(name, age, department)\n",
    "            values('Sahil',26,'MLOPs')\n",
    "\n",
    "''')\n",
    "\n",
    "cursor.execute('''\n",
    "Insert Into employees(name, age, department)\n",
    "            values('Aakash',25,'Civil Eng')\n",
    "\n",
    "''')\n",
    "\n",
    "cursor.execute('''\n",
    "Insert Into employees(name, age, department)\n",
    "            values('Aman',27,'Developer')\n",
    "\n",
    "''')\n",
    "\n",
    "## commit the changes\n",
    "connection.commit()\n"
   ]
  },
  {
   "cell_type": "code",
   "execution_count": 77,
   "metadata": {
    "id": "BxxpUFexc8M8"
   },
   "outputs": [
    {
     "name": "stdout",
     "output_type": "stream",
     "text": [
      "(None, 'Sahil', 26, 'MLOPs')\n",
      "(None, 'Aman', 27, 'Developer')\n",
      "(None, 'Sahil', 26, 'MLOPs')\n",
      "(None, 'Aman', 27, 'Developer')\n",
      "(None, 'Sahil', 26, 'MLOPs')\n",
      "(None, 'Aman', 27, 'Developer')\n",
      "(None, 'Sahil', 26, 'MLOPs')\n",
      "(None, 'Aman', 27, 'Developer')\n",
      "(None, 'Sahil', 26, 'MLOPs')\n",
      "(None, 'Aman', 27, 'Developer')\n"
     ]
    }
   ],
   "source": [
    "##Quering the data from the table\n",
    "cursor.execute('Select * from employees where age>25')\n",
    "rows=cursor.fetchall()\n",
    "\n",
    "## Print the queried data\n",
    "for row in rows:\n",
    "    print(row)"
   ]
  },
  {
   "cell_type": "code",
   "execution_count": 85,
   "metadata": {},
   "outputs": [],
   "source": [
    "## update the data in table\n",
    "cursor.execute('''\n",
    "UPDATE employees\n",
    "set age=34\n",
    "where name=\"Sahil\"\n",
    "\n",
    "''')\n",
    "\n",
    "connection.commit()"
   ]
  },
  {
   "cell_type": "code",
   "execution_count": 87,
   "metadata": {
    "scrolled": true
   },
   "outputs": [
    {
     "name": "stdout",
     "output_type": "stream",
     "text": [
      "(None, 'Sahil', 34, 'MLOPs')\n",
      "(None, 'Aakash', 25, 'Civil Eng')\n",
      "(None, 'Aman', 27, 'Developer')\n",
      "(None, 'Sahil', 34, 'MLOPs')\n",
      "(None, 'Aakash', 25, 'Civil Eng')\n",
      "(None, 'Aman', 27, 'Developer')\n",
      "(None, 'Sahil', 34, 'MLOPs')\n",
      "(None, 'Aakash', 25, 'Civil Eng')\n",
      "(None, 'Aman', 27, 'Developer')\n",
      "(None, 'Sahil', 34, 'MLOPs')\n",
      "(None, 'Aakash', 25, 'Civil Eng')\n",
      "(None, 'Aman', 27, 'Developer')\n",
      "(None, 'Sahil', 34, 'MLOPs')\n",
      "(None, 'Aakash', 25, 'Civil Eng')\n",
      "(None, 'Aman', 27, 'Developer')\n"
     ]
    }
   ],
   "source": [
    "##Quering the data from the table\n",
    "cursor.execute('Select * from employees ')\n",
    "rows=cursor.fetchall()\n",
    "\n",
    "## Print the queried data\n",
    "for row in rows:\n",
    "    print(row)"
   ]
  },
  {
   "cell_type": "code",
   "execution_count": 91,
   "metadata": {},
   "outputs": [],
   "source": [
    "## Delete the data from the table\n",
    "cursor.execute('''\n",
    "Delete from employees\n",
    "            where name = \"Sahil\"\n",
    "''')\n",
    "\n",
    "connection.commit()"
   ]
  },
  {
   "cell_type": "code",
   "execution_count": 98,
   "metadata": {},
   "outputs": [
    {
     "name": "stdout",
     "output_type": "stream",
     "text": [
      "(None, 'Aakash', 25, 'Civil Eng')\n",
      "(None, 'Aman', 27, 'Developer')\n",
      "(None, 'Aakash', 25, 'Civil Eng')\n",
      "(None, 'Aman', 27, 'Developer')\n",
      "(None, 'Aakash', 25, 'Civil Eng')\n",
      "(None, 'Aman', 27, 'Developer')\n",
      "(None, 'Aakash', 25, 'Civil Eng')\n",
      "(None, 'Aman', 27, 'Developer')\n",
      "(None, 'Aakash', 25, 'Civil Eng')\n",
      "(None, 'Aman', 27, 'Developer')\n"
     ]
    }
   ],
   "source": [
    "##Quering the data from the table\n",
    "cursor.execute('Select * from employees ')\n",
    "rows=cursor.fetchall()\n",
    "\n",
    "## Print the queried data\n",
    "for row in rows:\n",
    "    print(row)"
   ]
  },
  {
   "cell_type": "markdown",
   "metadata": {},
   "source": [
    "#**working with sales data**"
   ]
  },
  {
   "cell_type": "code",
   "execution_count": 104,
   "metadata": {},
   "outputs": [],
   "source": [
    "connection = sqlite3.connect('sales_data.db')\n",
    "cursor = connection.cursor()\n"
   ]
  },
  {
   "cell_type": "code",
   "execution_count": 120,
   "metadata": {},
   "outputs": [],
   "source": [
    "# Create a table for sales data\n",
    "cursor.execute('''\n",
    "Create Table If Not Exists employees(\n",
    "        id Integers Primary Key,\n",
    "        date TEXT NOT NULL,\n",
    "        product TEXT NOT NULL,\n",
    "        sales INTEGER,\n",
    "        region TEXT\n",
    "        )\n",
    "   ''')\n",
    "\n",
    "\n",
    "# Insert data into the sales table\n",
    "sales_data = [\n",
    "    ('2023-01-01', 'Produsct1', 100, 'North'),\n",
    "    ('2023-01-02', 'Produsct2', 200, 'South'),\n",
    "    ('2023-01-03', 'Produsct1', 150, 'East'),\n",
    "    ('2023-01-04', 'Produsct3', 250, 'West'),\n",
    "    ('2023-01-05', 'Produsct2', 300, 'North')\n",
    "]\n",
    "\n",
    "\n"
   ]
  },
  {
   "cell_type": "code",
   "execution_count": 128,
   "metadata": {},
   "outputs": [],
   "source": []
  },
  {
   "cell_type": "code",
   "execution_count": null,
   "metadata": {},
   "outputs": [],
   "source": []
  }
 ],
 "metadata": {
  "colab": {
   "provenance": []
  },
  "kernelspec": {
   "display_name": "Python 3 (ipykernel)",
   "language": "python",
   "name": "python3"
  },
  "language_info": {
   "codemirror_mode": {
    "name": "ipython",
    "version": 3
   },
   "file_extension": ".py",
   "mimetype": "text/x-python",
   "name": "python",
   "nbconvert_exporter": "python",
   "pygments_lexer": "ipython3",
   "version": "3.11.7"
  }
 },
 "nbformat": 4,
 "nbformat_minor": 4
}

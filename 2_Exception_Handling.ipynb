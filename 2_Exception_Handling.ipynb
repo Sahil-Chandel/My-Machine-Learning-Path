{
  "nbformat": 4,
  "nbformat_minor": 0,
  "metadata": {
    "colab": {
      "provenance": []
    },
    "kernelspec": {
      "name": "python3",
      "display_name": "Python 3"
    },
    "language_info": {
      "name": "python"
    }
  },
  "cells": [
    {
      "cell_type": "markdown",
      "source": [
        "# Exception try, except, block"
      ],
      "metadata": {
        "id": "gs5TLGYoXwfc"
      }
    },
    {
      "cell_type": "code",
      "execution_count": 1,
      "metadata": {
        "colab": {
          "base_uri": "https://localhost:8080/"
        },
        "id": "DaS2L68mXnn7",
        "outputId": "831945b2-63be-4d0e-fb89-0f8dd63ea0d6"
      },
      "outputs": [
        {
          "output_type": "stream",
          "name": "stdout",
          "text": [
            "The variable has not been assigned\n"
          ]
        }
      ],
      "source": [
        "try:\n",
        "  a=b\n",
        "except:\n",
        "  print(\"The variable has not been assigned\")"
      ]
    },
    {
      "cell_type": "code",
      "source": [
        "a=b"
      ],
      "metadata": {
        "colab": {
          "base_uri": "https://localhost:8080/",
          "height": 147
        },
        "id": "DVwMtHbqYDps",
        "outputId": "c96556fe-9ae2-4632-f302-25c2e77c1d5e"
      },
      "execution_count": 2,
      "outputs": [
        {
          "output_type": "error",
          "ename": "NameError",
          "evalue": "name 'b' is not defined",
          "traceback": [
            "\u001b[0;31m---------------------------------------------------------------------------\u001b[0m",
            "\u001b[0;31mNameError\u001b[0m                                 Traceback (most recent call last)",
            "\u001b[0;32m<ipython-input-2-488068fe1e94>\u001b[0m in \u001b[0;36m<cell line: 1>\u001b[0;34m()\u001b[0m\n\u001b[0;32m----> 1\u001b[0;31m \u001b[0ma\u001b[0m\u001b[0;34m=\u001b[0m\u001b[0mb\u001b[0m\u001b[0;34m\u001b[0m\u001b[0;34m\u001b[0m\u001b[0m\n\u001b[0m",
            "\u001b[0;31mNameError\u001b[0m: name 'b' is not defined"
          ]
        }
      ]
    },
    {
      "cell_type": "code",
      "source": [
        "try:\n",
        "  a=b\n",
        "except NameError as ex:\n",
        "  print(ex)"
      ],
      "metadata": {
        "colab": {
          "base_uri": "https://localhost:8080/"
        },
        "id": "DXu9K5ObYSD0",
        "outputId": "3da2a8ac-6d54-4842-b423-46229ce93fd7"
      },
      "execution_count": 3,
      "outputs": [
        {
          "output_type": "stream",
          "name": "stdout",
          "text": [
            "name 'b' is not defined\n"
          ]
        }
      ]
    },
    {
      "cell_type": "code",
      "source": [
        "try:\n",
        "  result = 1/2\n",
        "  a=b\n",
        "except ZeroDivisionError as ex:\n",
        "  print(ex)\n",
        "  print(\"please enter the debiminator greater than 0\")\n",
        "except Exception as ex1:\n",
        "  print(ex1)\n",
        "  print('main exception got cought here')"
      ],
      "metadata": {
        "colab": {
          "base_uri": "https://localhost:8080/"
        },
        "id": "CgF8I2FRYgPL",
        "outputId": "64b7341d-b4f2-4519-d328-6a26050f96c4"
      },
      "execution_count": 8,
      "outputs": [
        {
          "output_type": "stream",
          "name": "stdout",
          "text": [
            "name 'b' is not defined\n",
            "main exception got cought here\n"
          ]
        }
      ]
    },
    {
      "cell_type": "code",
      "source": [
        "try:\n",
        "  num=int(input(\"Enter a number\"))\n",
        "  result = 10/num\n",
        "except ValueError:\n",
        "  print(\"This is not a valid number\")\n",
        "except ZeroDivisionError:\n",
        "  print(\"enter denominater greater than 0\")\n",
        "except Exception as ex:\n",
        "  print(ex)"
      ],
      "metadata": {
        "colab": {
          "base_uri": "https://localhost:8080/"
        },
        "id": "-ieYhzixYp_q",
        "outputId": "9f63d630-6b0a-4b71-fa60-22b11a16210e"
      },
      "execution_count": 13,
      "outputs": [
        {
          "output_type": "stream",
          "name": "stdout",
          "text": [
            "Enter a number3.6\n",
            "This is not a valid number\n"
          ]
        }
      ]
    },
    {
      "cell_type": "code",
      "source": [
        "# try, except,else block\n",
        "try:\n",
        "  num=int(input(\"Enter a number\"))\n",
        "  result = 10/num\n",
        "except ValueError:\n",
        "  print(\"This is not a valid number\")\n",
        "except ZeroDivisionError:\n",
        "  print(\"you cant divide by zero!\")\n",
        "except Exception as ex:\n",
        "  print(ex)\n",
        "else:\n",
        "  print(f\"the result is {result}\")"
      ],
      "metadata": {
        "colab": {
          "base_uri": "https://localhost:8080/"
        },
        "id": "OMLIqcBMbe5Y",
        "outputId": "5fdd9bdb-d4ad-44d5-da2d-a146e0a462cd"
      },
      "execution_count": 14,
      "outputs": [
        {
          "output_type": "stream",
          "name": "stdout",
          "text": [
            "Enter a number0\n",
            "you cant divide by zero!\n"
          ]
        }
      ]
    },
    {
      "cell_type": "code",
      "source": [
        "# try, except,else and finally\n",
        "try:\n",
        "  num=int(input(\"Enter a number\"))\n",
        "  result = 10/num\n",
        "except ValueError:\n",
        "  print(\"This is not a valid number\")\n",
        "except ZeroDivisionError:\n",
        "  print(\"you cant divide by zero!\")\n",
        "except Exception as ex:\n",
        "  print(ex)\n",
        "else:\n",
        "  print(f\"the result is {result}\")\n",
        "finally:\n",
        "  print(\"Execution complete.\")"
      ],
      "metadata": {
        "colab": {
          "base_uri": "https://localhost:8080/"
        },
        "id": "MBFjoqgUfDBg",
        "outputId": "92b5a022-b948-4f31-8b7e-e2de91536f03"
      },
      "execution_count": 15,
      "outputs": [
        {
          "output_type": "stream",
          "name": "stdout",
          "text": [
            "Enter a number0.55\n",
            "This is not a valid number\n",
            "Execution complete.\n"
          ]
        }
      ]
    },
    {
      "cell_type": "code",
      "source": [
        "#file handling and exception handling\n",
        "try:\n",
        "  file=open('exception.txt','r')\n",
        "  content=file.read()\n",
        "  print(content)\n",
        "\n",
        "except FileNotFoundError:\n",
        "  print(\"The file does not exists\")\n",
        "except Exception as ex:\n",
        "  print(ex)\n",
        "\n",
        "\n",
        "finally:\n",
        "  if 'file' in locals() and not file.closed():\n",
        "    file.close()\n",
        "    print('file close')"
      ],
      "metadata": {
        "colab": {
          "base_uri": "https://localhost:8080/"
        },
        "id": "FkWztpi6fj9H",
        "outputId": "07578047-81d7-4f69-e5c5-4c2c821a1737"
      },
      "execution_count": 18,
      "outputs": [
        {
          "output_type": "stream",
          "name": "stdout",
          "text": [
            "The file does not exists\n"
          ]
        }
      ]
    },
    {
      "cell_type": "code",
      "source": [],
      "metadata": {
        "id": "fUHDWDWNkoyW"
      },
      "execution_count": 16,
      "outputs": []
    }
  ]
}
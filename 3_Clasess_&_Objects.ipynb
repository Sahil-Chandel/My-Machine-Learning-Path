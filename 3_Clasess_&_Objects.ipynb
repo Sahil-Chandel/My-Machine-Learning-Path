{
  "nbformat": 4,
  "nbformat_minor": 0,
  "metadata": {
    "colab": {
      "provenance": []
    },
    "kernelspec": {
      "name": "python3",
      "display_name": "Python 3"
    },
    "language_info": {
      "name": "python"
    }
  },
  "cells": [
    {
      "cell_type": "markdown",
      "source": [
        "OOP's is a programming paradigm that uses \"objects\" to design applications and computers program.OOP allows for modeling real-world scenarios using classes and objects. This lesson covers the basics of creating classes and objects, including instance variables and methods."
      ],
      "metadata": {
        "id": "pInsdzOznq8d"
      }
    },
    {
      "cell_type": "markdown",
      "source": [
        "A class is a blue print for creating objects. Attributes, methods"
      ],
      "metadata": {
        "id": "7uBmaImPoVAs"
      }
    },
    {
      "cell_type": "code",
      "execution_count": null,
      "metadata": {
        "colab": {
          "base_uri": "https://localhost:8080/"
        },
        "id": "1FpF6MnRnfi7",
        "outputId": "791f2961-667f-451d-c2d0-0182c11f9ba1"
      },
      "outputs": [
        {
          "output_type": "stream",
          "name": "stdout",
          "text": [
            "<class '__main__.Car'>\n"
          ]
        }
      ],
      "source": [
        "class Car:\n",
        "  pass\n",
        "\n",
        "audi=Car()\n",
        "bmw=Car()\n",
        "\n",
        "print(type(audi))"
      ]
    },
    {
      "cell_type": "code",
      "source": [
        "print(bmw)"
      ],
      "metadata": {
        "colab": {
          "base_uri": "https://localhost:8080/"
        },
        "id": "SQIesFSsozx4",
        "outputId": "2cd9e2c4-78b4-4b6a-bf84-7ae880f09618"
      },
      "execution_count": null,
      "outputs": [
        {
          "output_type": "stream",
          "name": "stdout",
          "text": [
            "<__main__.Car object at 0x7976aa79d840>\n"
          ]
        }
      ]
    },
    {
      "cell_type": "code",
      "source": [
        "audi.windows=4\n",
        "audi.seats=2\n",
        "print(audi.windows)\n",
        "print(audi.seats)"
      ],
      "metadata": {
        "colab": {
          "base_uri": "https://localhost:8080/"
        },
        "id": "_GPQt7OcpNJc",
        "outputId": "e8376942-ceb6-4a2f-df88-8f3c53bbaccd"
      },
      "execution_count": null,
      "outputs": [
        {
          "output_type": "stream",
          "name": "stdout",
          "text": [
            "4\n",
            "2\n"
          ]
        }
      ]
    },
    {
      "cell_type": "code",
      "source": [
        "dir()"
      ],
      "metadata": {
        "colab": {
          "base_uri": "https://localhost:8080/"
        },
        "id": "h4t36Q-fqm8e",
        "outputId": "0eeb46d5-7408-469a-9bcf-d00db87b9b4c"
      },
      "execution_count": null,
      "outputs": [
        {
          "output_type": "execute_result",
          "data": {
            "text/plain": [
              "['Car',\n",
              " 'Dog',\n",
              " 'In',\n",
              " 'Out',\n",
              " '_',\n",
              " '__',\n",
              " '___',\n",
              " '__builtin__',\n",
              " '__builtins__',\n",
              " '__doc__',\n",
              " '__loader__',\n",
              " '__name__',\n",
              " '__package__',\n",
              " '__spec__',\n",
              " '_dh',\n",
              " '_i',\n",
              " '_i1',\n",
              " '_i2',\n",
              " '_i3',\n",
              " '_i4',\n",
              " '_i5',\n",
              " '_i6',\n",
              " '_i7',\n",
              " '_i8',\n",
              " '_ih',\n",
              " '_ii',\n",
              " '_iii',\n",
              " '_oh',\n",
              " 'audi',\n",
              " 'bmw',\n",
              " 'exit',\n",
              " 'get_ipython',\n",
              " 'quit',\n",
              " 'tata']"
            ]
          },
          "metadata": {},
          "execution_count": 8
        }
      ]
    },
    {
      "cell_type": "code",
      "source": [
        "## Instance variable  and Methods\n",
        "class Dog:\n",
        "  ##Conctructor\n",
        "  def __init__(self,name,age):\n",
        "    self.name=name\n",
        "    self.age=age\n",
        "\n",
        "##Create objects\n",
        "dog1=Dog(\"Buddy\",3)\n",
        "print(dog1)\n",
        "print(dog1.name)\n",
        "print(dog1.age)"
      ],
      "metadata": {
        "colab": {
          "base_uri": "https://localhost:8080/"
        },
        "id": "odyzrsvlpDW1",
        "outputId": "3e631db9-99f4-4b3f-aece-7d5d9f57a08c"
      },
      "execution_count": null,
      "outputs": [
        {
          "output_type": "stream",
          "name": "stdout",
          "text": [
            "<__main__.Dog object at 0x7976aa79e2f0>\n",
            "Buddy\n",
            "3\n"
          ]
        }
      ]
    },
    {
      "cell_type": "code",
      "source": [
        "dog2=Dog(\"Lucy\",4)\n",
        "print(dog2)\n",
        "print(dog2.name)\n",
        "print(dog2.age)"
      ],
      "metadata": {
        "colab": {
          "base_uri": "https://localhost:8080/"
        },
        "id": "MkXlAcyUqRuL",
        "outputId": "cdaa0a6c-f3e8-4a13-e101-21be21f08b43"
      },
      "execution_count": null,
      "outputs": [
        {
          "output_type": "stream",
          "name": "stdout",
          "text": [
            "<__main__.Dog object at 0x7976aa79d2d0>\n",
            "Lucy\n",
            "4\n"
          ]
        }
      ]
    },
    {
      "cell_type": "code",
      "source": [
        "## Define a class with instance method\n",
        "class Dog:\n",
        "  def __init__(self,name,age):\n",
        "    self.name=name\n",
        "    self.age=age\n",
        "\n",
        "  def bark(self):\n",
        "    print(f\"{self.name} says woof\")\n",
        "\n",
        "dog1=Dog(\"Buddy\",3)\n",
        "dog1.bark()\n",
        "dog2=Dog(\"Lucy\",4)\n",
        "dog2.bark()"
      ],
      "metadata": {
        "colab": {
          "base_uri": "https://localhost:8080/"
        },
        "id": "_7tND86msLxJ",
        "outputId": "402391f7-2b79-40cf-e8d2-f7a69b1cb9c3"
      },
      "execution_count": null,
      "outputs": [
        {
          "output_type": "stream",
          "name": "stdout",
          "text": [
            "Buddy says woof\n",
            "Lucy says woof\n"
          ]
        }
      ]
    },
    {
      "cell_type": "code",
      "source": [
        "## Modeling a Bank Account\n",
        "\n",
        "##Define a class for bank account\n",
        "\n",
        "class BankAccount:\n",
        "  def __init__(self,owner,balance=0):\n",
        "    self.owner=owner\n",
        "    self.balance=balance\n",
        "\n",
        "  def deposit(self,amount):\n",
        "    self.balance+=amount\n",
        "    print(f\"{amount} is deposited. New balance is {self.balance}\")\n",
        "  def withdraw(self,amount):\n",
        "    if amount>self.balance:\n",
        "      print(\"Insufficient funds!\")\n",
        "    else:\n",
        "      self.balance-=amount\n",
        "      print(f\"{amount} is withdraw. New balance is {self.balance}\")\n",
        "\n",
        "  def get_balance(self):\n",
        "    return self.balance\n",
        "\n"
      ],
      "metadata": {
        "id": "fDncjNsRtbrr"
      },
      "execution_count": null,
      "outputs": []
    },
    {
      "cell_type": "code",
      "source": [
        " ## create an account\n",
        "account= BankAccount(\"Sahil\",50000)\n",
        "print(account.balance)"
      ],
      "metadata": {
        "colab": {
          "base_uri": "https://localhost:8080/"
        },
        "id": "m13wXEuFvXCJ",
        "outputId": "3c302f5f-3526-42c3-cfc3-f964f18a8318"
      },
      "execution_count": null,
      "outputs": [
        {
          "output_type": "stream",
          "name": "stdout",
          "text": [
            "50000\n"
          ]
        }
      ]
    },
    {
      "cell_type": "code",
      "source": [
        "## call instances method\n",
        "account.deposit(100)"
      ],
      "metadata": {
        "colab": {
          "base_uri": "https://localhost:8080/"
        },
        "id": "fXtpR6itvHIZ",
        "outputId": "439f2f48-b9aa-4941-a081-0a6a01a47376"
      },
      "execution_count": null,
      "outputs": [
        {
          "output_type": "stream",
          "name": "stdout",
          "text": [
            "100 is deposited. New balance is 50100\n"
          ]
        }
      ]
    },
    {
      "cell_type": "code",
      "source": [
        "account.withdraw(300)"
      ],
      "metadata": {
        "colab": {
          "base_uri": "https://localhost:8080/"
        },
        "id": "AqmoCDtYxOSL",
        "outputId": "1c3eba58-dfee-4c5b-a4ca-4c26f1aa60e0"
      },
      "execution_count": null,
      "outputs": [
        {
          "output_type": "stream",
          "name": "stdout",
          "text": [
            "300 is withdraw. New balance is 49800\n"
          ]
        }
      ]
    },
    {
      "cell_type": "code",
      "source": [
        "print(account.get_balance())"
      ],
      "metadata": {
        "colab": {
          "base_uri": "https://localhost:8080/"
        },
        "id": "YZPtL3LNx7ZL",
        "outputId": "ea0d8b67-985c-4498-fe89-f5cd4a5db855"
      },
      "execution_count": null,
      "outputs": [
        {
          "output_type": "stream",
          "name": "stdout",
          "text": [
            "49800\n"
          ]
        }
      ]
    },
    {
      "cell_type": "markdown",
      "source": [
        "# **Inheritance In python**\n",
        "\n",
        "Inheritance is a fundamental concept on oops that allows a class to inherit attributes and methods from another class. This lesson covers single inheritance and multiple inheritance, demonstrating how to create and use them in python"
      ],
      "metadata": {
        "id": "yMihqo2j0iTK"
      }
    },
    {
      "cell_type": "markdown",
      "source": [
        "# ** Inheritance (single inheritance)**\n",
        "##  Parent class"
      ],
      "metadata": {
        "id": "ZMOu21QjqNnq"
      }
    },
    {
      "cell_type": "code",
      "source": [
        "## Inheritance (single inheritance)\n",
        "##Parent class\n",
        "class car:\n",
        "  def __init__(self,windows,doors,enginetype):\n",
        "    self.windows=windows\n",
        "    self.doors=doors\n",
        "    self.enginetype=enginetype\n",
        "\n",
        "  def drive(self):\n",
        "    print(f\"The Person will drive the {self.enginetype} car\")"
      ],
      "metadata": {
        "id": "aQ1n87sMyTLT"
      },
      "execution_count": 39,
      "outputs": []
    },
    {
      "cell_type": "code",
      "source": [
        "car1=car(4,5,\"petrol\")\n",
        "car1.drive()"
      ],
      "metadata": {
        "colab": {
          "base_uri": "https://localhost:8080/"
        },
        "id": "wec9Lx2smcu7",
        "outputId": "aad951aa-74d2-41c2-9a75-c5e14ab29d82"
      },
      "execution_count": 41,
      "outputs": [
        {
          "output_type": "stream",
          "name": "stdout",
          "text": [
            "The Person will drive the petrol car\n"
          ]
        }
      ]
    },
    {
      "cell_type": "code",
      "source": [
        "class Tesla(car):\n",
        "  def __init__(self,windows,doors,enginetype,is_selfdriving):\n",
        "    super().__init__(windows, doors, enginetype)\n",
        "    self.is_selfdriving = is_selfdriving\n",
        "\n",
        "  def selfdriving(self):\n",
        "    print(f\"Tesla supports self driving : {self.is_selfdriving}\")\n",
        "\n",
        ""
      ],
      "metadata": {
        "id": "9omQN18imxnL"
      },
      "execution_count": 46,
      "outputs": []
    },
    {
      "cell_type": "code",
      "source": [
        "tesla1=Tesla(4,5,\"electric\",True)\n",
        "tesla1.selfdriving()"
      ],
      "metadata": {
        "colab": {
          "base_uri": "https://localhost:8080/"
        },
        "id": "TZWmMAjro018",
        "outputId": "7e13b580-f483-4f2b-9eed-1e19ebc41efe"
      },
      "execution_count": 47,
      "outputs": [
        {
          "output_type": "stream",
          "name": "stdout",
          "text": [
            "Tesla supports self driving : True\n"
          ]
        }
      ]
    },
    {
      "cell_type": "code",
      "source": [
        "tesla1.drive()"
      ],
      "metadata": {
        "colab": {
          "base_uri": "https://localhost:8080/"
        },
        "id": "6rd-6EC_pJM6",
        "outputId": "b7683353-54af-4260-9cb8-feaf143693db"
      },
      "execution_count": 48,
      "outputs": [
        {
          "output_type": "stream",
          "name": "stdout",
          "text": [
            "The Person will drive the electric car\n"
          ]
        }
      ]
    },
    {
      "cell_type": "markdown",
      "source": [
        "# **Multiple Inheritance**\n",
        "\n",
        "*   When a class inherits from more than one base class.\n",
        "\n",
        "\n",
        "\n",
        "\n",
        "\n"
      ],
      "metadata": {
        "id": "NVz8DKRcqfJI"
      }
    },
    {
      "cell_type": "code",
      "source": [
        "#Base class1\n",
        "class Animal:\n",
        "  def __init__(self,name):\n",
        "    self.name=name\n",
        "\n",
        "  def speak(self):\n",
        "    print(\"Subclass must implement method \")\n",
        "\n",
        "##Base Class 2\n",
        "class Pet:\n",
        "  def __init__(self, owner):\n",
        "    self.owner = owner\n",
        "\n",
        "\n",
        "##Derived class\n",
        "class Dog(Animal,Pet):\n",
        "  def __init__(self,name,owner):\n",
        "    Animal.__init__(self,name)\n",
        "    Pet.__init__(self,owner)\n",
        "\n",
        "  def speak(self):\n",
        "    return f\"{self.name} say woof\"\n",
        "\n",
        "##Create an object\n",
        "dog=Dog(\"Buddy\",\"Sahil\")\n",
        "print(dog.speak())\n",
        "print(f\"Owner : {dog.owner}\")"
      ],
      "metadata": {
        "colab": {
          "base_uri": "https://localhost:8080/"
        },
        "id": "oLLWbjwEp4up",
        "outputId": "55843bff-fc55-4bf5-8c75-c38e82032653"
      },
      "execution_count": 52,
      "outputs": [
        {
          "output_type": "stream",
          "name": "stdout",
          "text": [
            "Buddy say woof\n",
            "Owner : Sahil\n"
          ]
        }
      ]
    },
    {
      "cell_type": "markdown",
      "source": [
        "# **Polymorphism**\n",
        "Polymorphism is a core concept in oops that allow objects of different classes to be treated as objects of a common superclass. it provides a way to perform a single action in different forms. Polymorphism is typically achived through method overriding and interfaces"
      ],
      "metadata": {
        "id": "KbgXYDrQz3z7"
      }
    },
    {
      "cell_type": "markdown",
      "source": [
        "### **Method Overriding**\n",
        "Method overriding allows a child class to provide a specific implementation of a method that is already defined inits parent class."
      ],
      "metadata": {
        "id": "RzRESg_f01be"
      }
    },
    {
      "cell_type": "code",
      "source": [
        "## Base Class\n",
        "class Animal:\n",
        "  def speak(self):\n",
        "    return \"Sound of the animal\"\n",
        "\n",
        "##Derived Class 1\n",
        "class Dog(Animal):\n",
        "  def speak(self):\n",
        "    return \"woof!\"\n",
        "\n",
        "##Derived Class 2\n",
        "class Cat(Animal):\n",
        "  def speak(self):\n",
        "    return \"Meow!\"\n",
        "\n",
        "\n",
        "##Function that demonstrates polymorphism\n",
        "def animal_speak(animal):\n",
        "  print(animal.speak())\n",
        "\n",
        "dog=Dog()\n",
        "cat=Cat()\n",
        "print(dog.speak())\n",
        "print(cat.speak())\n",
        "animal_speak(dog)"
      ],
      "metadata": {
        "colab": {
          "base_uri": "https://localhost:8080/"
        },
        "id": "cxKGhKVZvcti",
        "outputId": "0b0f4980-b37a-41aa-8a19-8a13c5f41cb9"
      },
      "execution_count": 56,
      "outputs": [
        {
          "output_type": "stream",
          "name": "stdout",
          "text": [
            "woof!\n",
            "Meow!\n",
            "woof!\n"
          ]
        }
      ]
    },
    {
      "cell_type": "code",
      "source": [
        "## Polymorphism with function and methods\n",
        "##Base class\n",
        "class Shape:\n",
        "  def area(self):\n",
        "    return \"The area of the figure\"\n",
        "\n",
        "##Derived class 1\n",
        "class Rectangle(Shape):\n",
        "  def __init__(self,width,height):\n",
        "    self.width=width\n",
        "    self.height=height\n",
        "\n",
        "  def area(self):\n",
        "    return self.width = self.height\n",
        "\n",
        "##Derived class 2\n",
        "class Circle(Shape):\n",
        "  def __init__(self.radius):\n",
        "    self.radius=radius\n",
        "\n",
        "  def area(self):\n",
        "    return 3.14*self.radius *self.radius\n",
        "\n",
        "\n",
        "##Function that demonstrates polymorphism\n",
        "\n",
        "def print_area(shape):\n",
        "  print(f\"the area is {shape.area()}\")"
      ],
      "metadata": {
        "id": "T85g0qdh3kF9"
      },
      "execution_count": null,
      "outputs": []
    }
  ]
}
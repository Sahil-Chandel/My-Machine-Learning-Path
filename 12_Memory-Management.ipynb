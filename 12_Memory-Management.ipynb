{
 "cells": [
  {
   "cell_type": "markdown",
   "metadata": {},
   "source": [
    "**Python Memory Management**"
   ]
  },
  {
   "cell_type": "markdown",
   "metadata": {},
   "source": [
    "Memory management in python involves a combination of automatic garbage collection, reference counting, and various internal optimization to effeiciently manage memory allocation and deallocation. understanding these mechanisms can help developers write more efficient and robust application.\n",
    "1. key concept in python memory management\n",
    "2. memory allocation and deallocation\n",
    "3. reference counting\n",
    "4. garbage collection\n",
    "5. The gc module\n",
    "6. Memory management best pratics\n"
   ]
  },
  {
   "cell_type": "markdown",
   "metadata": {},
   "source": [
    "## Reference Counting:\n",
    "  Reference counting is one of the memory management technique in which the objects are deallocated when there is no reference to them in a program."
   ]
  },
  {
   "cell_type": "code",
   "execution_count": 1,
   "metadata": {},
   "outputs": [
    {
     "name": "stdout",
     "output_type": "stream",
     "text": [
      "2\n"
     ]
    }
   ],
   "source": [
    "import sys\n",
    "\n",
    "a=[]\n",
    "## 2 (one reference from 'a' and one from getrefcount())\n",
    "print(sys.getrefcount(a))\n"
   ]
  },
  {
   "cell_type": "code",
   "execution_count": 2,
   "metadata": {},
   "outputs": [
    {
     "name": "stdout",
     "output_type": "stream",
     "text": [
      "3\n"
     ]
    }
   ],
   "source": [
    "b=a\n",
    "print(sys.getrefcount(b))"
   ]
  },
  {
   "cell_type": "code",
   "execution_count": 3,
   "metadata": {},
   "outputs": [
    {
     "name": "stdout",
     "output_type": "stream",
     "text": [
      "2\n"
     ]
    }
   ],
   "source": [
    "del b\n",
    "print(sys.getrefcount(a))"
   ]
  },
  {
   "cell_type": "markdown",
   "metadata": {},
   "source": [
    "## Garbage Collection\n",
    "Garbage collection, an automatic memory management technique, is used by programming languages to deallocate memory that is no longer required by the program. The garbage collector in Python locates and releases memory occupied by objects that can no longer be accessed or referenced by the program's code."
   ]
  },
  {
   "cell_type": "code",
   "execution_count": 4,
   "metadata": {},
   "outputs": [],
   "source": [
    "import gc\n",
    "## enable garbage collection\n",
    "gc.enable()"
   ]
  },
  {
   "cell_type": "code",
   "execution_count": 5,
   "metadata": {},
   "outputs": [],
   "source": [
    "gc.disable()"
   ]
  },
  {
   "cell_type": "code",
   "execution_count": 9,
   "metadata": {},
   "outputs": [
    {
     "data": {
      "text/plain": [
       "0"
      ]
     },
     "execution_count": 9,
     "metadata": {},
     "output_type": "execute_result"
    }
   ],
   "source": [
    "gc.collect()"
   ]
  },
  {
   "cell_type": "code",
   "execution_count": 10,
   "metadata": {},
   "outputs": [
    {
     "name": "stdout",
     "output_type": "stream",
     "text": [
      "[{'collections': 197, 'collected': 1322, 'uncollectable': 0}, {'collections': 17, 'collected': 468, 'uncollectable': 0}, {'collections': 5, 'collected': 44, 'uncollectable': 0}]\n"
     ]
    }
   ],
   "source": [
    "## Get garbage collection stats\n",
    "print(gc.get_stats())"
   ]
  },
  {
   "cell_type": "code",
   "execution_count": 12,
   "metadata": {},
   "outputs": [
    {
     "name": "stdout",
     "output_type": "stream",
     "text": [
      "[]\n"
     ]
    }
   ],
   "source": [
    "## get unreachable objects\n",
    "print(gc.garbage)"
   ]
  },
  {
   "cell_type": "markdown",
   "metadata": {},
   "source": [
    "## Memory Management Best Practices\n",
    "\n",
    "1. Use Local Variables:   Local variables have a shorter lifespan and are freed sooner than global variables.\n",
    "\n",
    "2. Avoid Circular References:     Circular references can lead to memory leaks if not properly managed. Use Generators: Generators produce items one at a time and only keep one item in memory at a time,\n",
    "\n",
    "making them memory efficient.\n",
    "\n",
    "Explicitly Delete Objects: Use the del statement to delete variables and objects explicitly.\n",
    "\n",
    "Profile Memory Usage:   Use memory profiling tools like tracemalloc and memory_profiler to identify memory leaks and optimize memory usage.\n",
    "\n",
    "markdown"
   ]
  },
  {
   "cell_type": "code",
   "execution_count": 18,
   "metadata": {},
   "outputs": [
    {
     "name": "stdout",
     "output_type": "stream",
     "text": [
      "Object obj1 created\n",
      "Object obj2 created\n",
      "Object obj1 deleted\n",
      "Object obj2 deleted\n"
     ]
    },
    {
     "data": {
      "text/plain": [
       "311"
      ]
     },
     "execution_count": 18,
     "metadata": {},
     "output_type": "execute_result"
    }
   ],
   "source": [
    "## Handling circular Reference\n",
    "\n",
    "import gc\n",
    "\n",
    "class MyObject:\n",
    "    def __init__(self,name):\n",
    "        self.name=name\n",
    "        print(f\"Object {self.name} created\")\n",
    "\n",
    "    def __del__(self):\n",
    "        print(f\"Object {self.name} deleted\")\n",
    "\n",
    "\n",
    "## create cicular reference\n",
    "obj1 = MyObject(\"obj1\")\n",
    "obj2 = MyObject(\"obj2\")\n",
    "obj1.ref = obj2\n",
    "obj2.ref = obj1\n",
    "\n",
    "del obj1\n",
    "del obj2\n",
    "\n",
    "## manual trigger the garbage collection\n",
    "gc.collect()\n"
   ]
  },
  {
   "cell_type": "code",
   "execution_count": 17,
   "metadata": {},
   "outputs": [
    {
     "name": "stdout",
     "output_type": "stream",
     "text": [
      "garbage collection objects: []\n"
     ]
    }
   ],
   "source": [
    "# Print Collected objects\n",
    "print(f\"garbage collection objects: {gc.garbage}\")"
   ]
  },
  {
   "cell_type": "code",
   "execution_count": 19,
   "metadata": {},
   "outputs": [
    {
     "name": "stdout",
     "output_type": "stream",
     "text": [
      "0\n",
      "1\n",
      "2\n",
      "3\n",
      "4\n",
      "5\n",
      "6\n",
      "7\n",
      "8\n",
      "9\n",
      "10\n",
      "11\n"
     ]
    }
   ],
   "source": [
    "## Generator for memory efficiency\n",
    "def generate_number(n):\n",
    "    for i in range(n):\n",
    "        yield i\n",
    "## Using the generator\n",
    "for num in generate_number(100000):\n",
    "    print(num)\n",
    "    if num>10:\n",
    "        break"
   ]
  },
  {
   "cell_type": "code",
   "execution_count": 20,
   "metadata": {},
   "outputs": [],
   "source": [
    "## Profiling Memory usage with tracemalloc\n",
    "import tracemalloc\n",
    "\n",
    "def create_list():\n",
    "    return [i for i in range(10000)]\n",
    "\n",
    "def main():\n",
    "    tracemalloc.start()\n",
    "\n",
    "    create_list()\n",
    "\n",
    "    snapshot = tracemalloc.take_snapshot()\n",
    "    top_stats = snapshot.statistics('lineno')\n",
    "\n",
    "    print(\"[TOP 10]\")\n",
    "    for stat in top_stats[:10]:\n",
    "        print(stat)"
   ]
  },
  {
   "cell_type": "code",
   "execution_count": 21,
   "metadata": {},
   "outputs": [
    {
     "name": "stdout",
     "output_type": "stream",
     "text": [
      "[TOP 10]\n"
     ]
    }
   ],
   "source": [
    "main()"
   ]
  },
  {
   "cell_type": "code",
   "execution_count": null,
   "metadata": {},
   "outputs": [],
   "source": [
    "top"
   ]
  }
 ],
 "metadata": {
  "kernelspec": {
   "display_name": "Python 3",
   "language": "python",
   "name": "python3"
  },
  "language_info": {
   "codemirror_mode": {
    "name": "ipython",
    "version": 3
   },
   "file_extension": ".py",
   "mimetype": "text/x-python",
   "name": "python",
   "nbconvert_exporter": "python",
   "pygments_lexer": "ipython3",
   "version": "3.11.7"
  }
 },
 "nbformat": 4,
 "nbformat_minor": 2
}

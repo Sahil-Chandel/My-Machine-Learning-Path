{
  "cells": [
    {
      "cell_type": "code",
      "execution_count": 1,
      "metadata": {
        "id": "nl8UG-43FuLb"
      },
      "outputs": [],
      "source": [
        "import numpy as np\n"
      ]
    },
    {
      "cell_type": "code",
      "execution_count": 4,
      "metadata": {
        "colab": {
          "base_uri": "https://localhost:8080/"
        },
        "id": "ueJK9EcJFvjT",
        "outputId": "0e583692-94b1-4e95-83f9-643d6fc07daf"
      },
      "outputs": [
        {
          "name": "stdout",
          "output_type": "stream",
          "text": [
            "mean of the dataset is 21.176470588235293\n",
            "std. deviation is 26.37230118696876\n"
          ]
        }
      ],
      "source": [
        "data = [11,10,12,14,12,15,14,13,15,102,12,14,17,19,107,10,13,12,14,12,108,12,11,14,13,15,10,15,12,10,14,13,15,10]\n",
        "mean = np.mean(data)\n",
        "std = np.std(data)\n",
        "print('mean of the dataset is', mean)\n",
        "print('std. deviation is', std)\n"
      ]
    },
    {
      "cell_type": "code",
      "execution_count": 5,
      "metadata": {
        "colab": {
          "base_uri": "https://localhost:8080/"
        },
        "id": "6oFSh66hFyB3",
        "outputId": "f7132e1c-ad8f-4f34-8fcc-31e21fb0b7d2"
      },
      "outputs": [
        {
          "name": "stdout",
          "output_type": "stream",
          "text": [
            "outlier in dataset is [102, 107, 108]\n"
          ]
        }
      ],
      "source": [
        "## Z-score for outlier detection\n",
        "\n",
        "threshold = 3\n",
        "outlier = []\n",
        "for i in data:\n",
        "\tz = (i-mean)/std\n",
        "\tif z > threshold:\n",
        "\t\toutlier.append(i)\n",
        "print('outlier in dataset is', outlier)\n"
      ]
    },
    {
      "cell_type": "code",
      "execution_count": null,
      "metadata": {
        "id": "hUwdqzQEGSYy"
      },
      "outputs": [],
      "source": []
    }
  ],
  "metadata": {
    "colab": {
      "provenance": []
    },
    "kernelspec": {
      "display_name": "Python 3",
      "name": "python3"
    },
    "language_info": {
      "name": "python",
      "version": "3.11.7"
    }
  },
  "nbformat": 4,
  "nbformat_minor": 0
}

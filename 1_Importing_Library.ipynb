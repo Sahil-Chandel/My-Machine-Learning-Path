{
  "nbformat": 4,
  "nbformat_minor": 0,
  "metadata": {
    "colab": {
      "provenance": []
    },
    "kernelspec": {
      "name": "python3",
      "display_name": "Python 3"
    },
    "language_info": {
      "name": "python"
    }
  },
  "cells": [
    {
      "cell_type": "markdown",
      "source": [
        "In Python, Libraries help organize and reuse code. Here's a comprehensive guide on how to import them."
      ],
      "metadata": {
        "id": "oiWUJTDJw54y"
      }
    },
    {
      "cell_type": "code",
      "execution_count": 1,
      "metadata": {
        "colab": {
          "base_uri": "https://localhost:8080/"
        },
        "id": "hKDRA-MzLKnZ",
        "outputId": "328a625c-b45b-49dc-d258-7ce5f97ea75f"
      },
      "outputs": [
        {
          "output_type": "stream",
          "name": "stdout",
          "text": [
            "array('i', [1, 2, 3, 4])\n"
          ]
        }
      ],
      "source": [
        "import array\n",
        "arr = array.array('i',[1,2,3,4])\n",
        "print(arr)"
      ]
    },
    {
      "cell_type": "code",
      "source": [
        "import math\n",
        "print(math.sqrt(16))\n",
        "print(math.pi)"
      ],
      "metadata": {
        "colab": {
          "base_uri": "https://localhost:8080/"
        },
        "id": "jgMnRfBQyId-",
        "outputId": "91fb57a1-d78e-44c2-b48f-1eed7b65385e"
      },
      "execution_count": 2,
      "outputs": [
        {
          "output_type": "stream",
          "name": "stdout",
          "text": [
            "4.0\n",
            "3.141592653589793\n"
          ]
        }
      ]
    },
    {
      "cell_type": "markdown",
      "source": [
        "## **Random**"
      ],
      "metadata": {
        "id": "fkU2HeoxyXV4"
      }
    },
    {
      "cell_type": "code",
      "source": [
        "import random\n",
        "print(random.randint(1,10))\n",
        "print(random.choice(['apple','banana','cherry']))"
      ],
      "metadata": {
        "colab": {
          "base_uri": "https://localhost:8080/"
        },
        "id": "3bbNdTHHyUSf",
        "outputId": "28f84675-bd07-4227-faf5-66bc19624dc3"
      },
      "execution_count": 5,
      "outputs": [
        {
          "output_type": "stream",
          "name": "stdout",
          "text": [
            "5\n",
            "banana\n"
          ]
        }
      ]
    },
    {
      "cell_type": "markdown",
      "source": [
        "## **File and Directory Access**"
      ],
      "metadata": {
        "id": "uTAzyyT7zCSi"
      }
    },
    {
      "cell_type": "code",
      "source": [
        "import os\n",
        "\n",
        "print(os.getcwd())"
      ],
      "metadata": {
        "colab": {
          "base_uri": "https://localhost:8080/"
        },
        "id": "pqWft9THywoh",
        "outputId": "e91ac9ff-9ba5-4900-f4a9-4a5916d4844f"
      },
      "execution_count": 7,
      "outputs": [
        {
          "output_type": "stream",
          "name": "stdout",
          "text": [
            "/content\n"
          ]
        }
      ]
    },
    {
      "cell_type": "code",
      "source": [
        "os.mkdir('test_dir')"
      ],
      "metadata": {
        "id": "-Pi5Q5M9zToW"
      },
      "execution_count": 8,
      "outputs": []
    },
    {
      "cell_type": "markdown",
      "source": [
        "High level operation on files and collection of files"
      ],
      "metadata": {
        "id": "DmntrTToz8gG"
      }
    },
    {
      "cell_type": "code",
      "source": [
        "import shutil\n",
        "#This function copy whole data of source data in destination file\n",
        "shutil.copyfile('source.txt','destination.txt')\n"
      ],
      "metadata": {
        "colab": {
          "base_uri": "https://localhost:8080/",
          "height": 35
        },
        "id": "XKbsC5A6zvn7",
        "outputId": "50aa1285-e41d-41a4-83e8-aa3441349604"
      },
      "execution_count": 11,
      "outputs": [
        {
          "output_type": "execute_result",
          "data": {
            "text/plain": [
              "'destination.txt'"
            ],
            "application/vnd.google.colaboratory.intrinsic+json": {
              "type": "string"
            }
          },
          "metadata": {},
          "execution_count": 11
        }
      ]
    },
    {
      "cell_type": "markdown",
      "source": [
        "# **Data Serialization**\n",
        "\n",
        "> convert file  into  Json\n",
        "\n",
        "\n",
        "\n"
      ],
      "metadata": {
        "id": "35GQdMR71SZ8"
      }
    },
    {
      "cell_type": "code",
      "source": [
        "import json\n",
        "data = {'name':'sahil','age':25}\n",
        "\n",
        "json_str = json.dumps(data)\n",
        "print(json_str)\n",
        "print(type(json_str))"
      ],
      "metadata": {
        "colab": {
          "base_uri": "https://localhost:8080/"
        },
        "id": "msgqECXB1PJI",
        "outputId": "e87e6812-1b21-45b1-abf2-50bb52ebb841"
      },
      "execution_count": 17,
      "outputs": [
        {
          "output_type": "stream",
          "name": "stdout",
          "text": [
            "{\"name\": \"sahil\", \"age\": 25}\n",
            "<class 'str'>\n"
          ]
        }
      ]
    },
    {
      "cell_type": "code",
      "source": [
        "parsed_data = json.loads(json_str)\n",
        "print(parsed_data)\n",
        "print(type(parsed_data))"
      ],
      "metadata": {
        "colab": {
          "base_uri": "https://localhost:8080/"
        },
        "id": "Cz1zhfGr2Bug",
        "outputId": "5bca0780-3e21-4a03-e8c1-9edb04fab676"
      },
      "execution_count": 18,
      "outputs": [
        {
          "output_type": "stream",
          "name": "stdout",
          "text": [
            "{'name': 'sahil', 'age': 25}\n",
            "<class 'dict'>\n"
          ]
        }
      ]
    },
    {
      "cell_type": "markdown",
      "source": [
        "# **CSV files**"
      ],
      "metadata": {
        "id": "DF7vw7s326Bh"
      }
    },
    {
      "cell_type": "code",
      "source": [
        "import csv\n",
        "\n",
        "# Create csv file and fill data\n",
        "with open('example.csv',mode='w',newline='') as file:\n",
        "  writer=csv.writer(file)\n",
        "  writer.writerow(['name','age'])\n",
        "  writer.writerow(['sahil',25])\n",
        "# open file and read\n",
        "with open('example.csv',mode='r') as file:\n",
        "  reader=csv.reader(file)\n",
        "  for row in reader:\n",
        "    print(row)"
      ],
      "metadata": {
        "colab": {
          "base_uri": "https://localhost:8080/"
        },
        "id": "AcVcRRsW2tAX",
        "outputId": "fe39ce98-eb12-4980-a751-eca2dd872c90"
      },
      "execution_count": 22,
      "outputs": [
        {
          "output_type": "stream",
          "name": "stdout",
          "text": [
            "['name', 'age']\n",
            "['sahil', '25']\n"
          ]
        }
      ]
    },
    {
      "cell_type": "markdown",
      "source": [
        "# **Date Time**"
      ],
      "metadata": {
        "id": "7gEVGg6J4cFi"
      }
    },
    {
      "cell_type": "markdown",
      "source": [],
      "metadata": {
        "id": "nk0kIvpU4cC_"
      }
    },
    {
      "cell_type": "code",
      "source": [
        "from datetime import datetime,timedelta\n",
        "\n",
        "now=datetime.now()\n",
        "print(now)\n",
        "\n",
        "yesterday = now-timedelta(days=1)\n",
        "\n",
        "print(yesterday)"
      ],
      "metadata": {
        "colab": {
          "base_uri": "https://localhost:8080/"
        },
        "id": "AL0sJFJJ3653",
        "outputId": "fc6ab682-20d7-4486-def0-7346c9711489"
      },
      "execution_count": 23,
      "outputs": [
        {
          "output_type": "stream",
          "name": "stdout",
          "text": [
            "2024-06-30 06:45:00.772309\n",
            "2024-06-29 06:45:00.772309\n"
          ]
        }
      ]
    },
    {
      "cell_type": "code",
      "source": [],
      "metadata": {
        "id": "FfGYhYy748PR"
      },
      "execution_count": null,
      "outputs": []
    }
  ]
}
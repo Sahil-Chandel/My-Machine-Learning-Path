{
  "nbformat": 4,
  "nbformat_minor": 0,
  "metadata": {
    "colab": {
      "provenance": []
    },
    "kernelspec": {
      "name": "python3",
      "display_name": "Python 3"
    },
    "language_info": {
      "name": "python"
    }
  },
  "cells": [
    {
      "cell_type": "markdown",
      "source": [
        "## Lambda Function in Python"
      ],
      "metadata": {
        "id": "qN5JvOhOeW_W"
      }
    },
    {
      "cell_type": "code",
      "source": [
        "#Syntax\n",
        "lambda arguments: expression"
      ],
      "metadata": {
        "colab": {
          "base_uri": "https://localhost:8080/"
        },
        "id": "8c4dsSJkeU2i",
        "outputId": "f3bb1230-1183-46dc-b95e-e9b991aef85f"
      },
      "execution_count": 5,
      "outputs": [
        {
          "output_type": "execute_result",
          "data": {
            "text/plain": [
              "<function __main__.<lambda>(arguments)>"
            ]
          },
          "metadata": {},
          "execution_count": 5
        }
      ]
    },
    {
      "cell_type": "code",
      "execution_count": 6,
      "metadata": {
        "id": "5QjixAfydt9m"
      },
      "outputs": [],
      "source": [
        "def addition(a,b):\n",
        "    return a+b"
      ]
    },
    {
      "cell_type": "code",
      "source": [
        "addition(2,3)"
      ],
      "metadata": {
        "colab": {
          "base_uri": "https://localhost:8080/"
        },
        "id": "VPQikDfRerac",
        "outputId": "53802ed4-87e8-47a3-e41f-c79921fce173"
      },
      "execution_count": 7,
      "outputs": [
        {
          "output_type": "execute_result",
          "data": {
            "text/plain": [
              "5"
            ]
          },
          "metadata": {},
          "execution_count": 7
        }
      ]
    },
    {
      "cell_type": "code",
      "source": [
        "lambda a,b: a+b\n",
        "print(addition(2,3))"
      ],
      "metadata": {
        "colab": {
          "base_uri": "https://localhost:8080/"
        },
        "id": "hM5AdgYcettn",
        "outputId": "bfdc22c1-b5d2-42bf-fd8d-bb8eb56e3a76"
      },
      "execution_count": 8,
      "outputs": [
        {
          "output_type": "stream",
          "name": "stdout",
          "text": [
            "5\n"
          ]
        }
      ]
    },
    {
      "cell_type": "code",
      "source": [
        "def even(num):\n",
        "  if num%2==0:\n",
        "    return True\n",
        "\n",
        "even(24)"
      ],
      "metadata": {
        "colab": {
          "base_uri": "https://localhost:8080/"
        },
        "id": "3QQ0BKoGfdEi",
        "outputId": "53e77182-fede-4d9c-fc28-75244c12d696"
      },
      "execution_count": 9,
      "outputs": [
        {
          "output_type": "execute_result",
          "data": {
            "text/plain": [
              "True"
            ]
          },
          "metadata": {},
          "execution_count": 9
        }
      ]
    },
    {
      "cell_type": "code",
      "source": [
        "even1 = lambda num:num%2==0\n",
        "even1(24)"
      ],
      "metadata": {
        "colab": {
          "base_uri": "https://localhost:8080/"
        },
        "id": "QWWNlsXBfvHm",
        "outputId": "7beb5301-551c-4d52-a4c8-6eba61f18574"
      },
      "execution_count": 10,
      "outputs": [
        {
          "output_type": "execute_result",
          "data": {
            "text/plain": [
              "True"
            ]
          },
          "metadata": {},
          "execution_count": 10
        }
      ]
    },
    {
      "cell_type": "code",
      "source": [
        "def addition(x,y,z):\n",
        "  return x+y+z\n",
        "\n",
        "addition(1,2,3)"
      ],
      "metadata": {
        "colab": {
          "base_uri": "https://localhost:8080/"
        },
        "id": "vMT8lq0qf446",
        "outputId": "48c6b2e7-a8c6-44a6-eccf-7f34148a6a67"
      },
      "execution_count": 11,
      "outputs": [
        {
          "output_type": "execute_result",
          "data": {
            "text/plain": [
              "6"
            ]
          },
          "metadata": {},
          "execution_count": 11
        }
      ]
    },
    {
      "cell_type": "code",
      "source": [
        "addition1 = lambda x,y,z:x+y+z\n",
        "addition1(1,2,3)"
      ],
      "metadata": {
        "colab": {
          "base_uri": "https://localhost:8080/"
        },
        "id": "jrdfNAYMnakf",
        "outputId": "c5122119-ff71-4680-fe4c-b5a39999efc8"
      },
      "execution_count": 12,
      "outputs": [
        {
          "output_type": "execute_result",
          "data": {
            "text/plain": [
              "6"
            ]
          },
          "metadata": {},
          "execution_count": 12
        }
      ]
    },
    {
      "cell_type": "markdown",
      "source": [
        "## **Map Function :**\n",
        "The map function applies a function to all iteams in a list  (or any other iterable) and return a mao objects(any iterator).This is particularly useful  for transforming data in a list comprehensively"
      ],
      "metadata": {
        "id": "Kp43C0DYoYPS"
      }
    },
    {
      "cell_type": "code",
      "source": [
        "numbers = [1,2,3,4,5]\n",
        "def square(numbers):\n",
        "  return numbers**2\n",
        "\n",
        "square(2)"
      ],
      "metadata": {
        "colab": {
          "base_uri": "https://localhost:8080/"
        },
        "id": "g9cyD2w8n7dZ",
        "outputId": "e823f175-da66-48a2-aa1f-39157025d996"
      },
      "execution_count": 13,
      "outputs": [
        {
          "output_type": "execute_result",
          "data": {
            "text/plain": [
              "4"
            ]
          },
          "metadata": {},
          "execution_count": 13
        }
      ]
    },
    {
      "cell_type": "code",
      "source": [
        "list(map(lambda x:x**2,numbers))"
      ],
      "metadata": {
        "colab": {
          "base_uri": "https://localhost:8080/"
        },
        "id": "UPfxHtz1opg_",
        "outputId": "cb0d48c5-0932-4f70-c0a3-7b01e2c2001a"
      },
      "execution_count": 14,
      "outputs": [
        {
          "output_type": "execute_result",
          "data": {
            "text/plain": [
              "[1, 4, 9, 16, 25]"
            ]
          },
          "metadata": {},
          "execution_count": 14
        }
      ]
    },
    {
      "cell_type": "code",
      "source": [
        "def square(x):\n",
        "  return x*x\n",
        "\n",
        "square(2)"
      ],
      "metadata": {
        "colab": {
          "base_uri": "https://localhost:8080/"
        },
        "id": "aDqHqnQwpKLE",
        "outputId": "ef53354f-7d89-4a09-c3fd-ec2a68504657"
      },
      "execution_count": 15,
      "outputs": [
        {
          "output_type": "execute_result",
          "data": {
            "text/plain": [
              "4"
            ]
          },
          "metadata": {},
          "execution_count": 15
        }
      ]
    },
    {
      "cell_type": "code",
      "source": [
        "numbers = [1,2,3,4,5,6,7,8]\n",
        "\n",
        "list(map(square,numbers))"
      ],
      "metadata": {
        "colab": {
          "base_uri": "https://localhost:8080/"
        },
        "id": "dtkMqklvriDn",
        "outputId": "24ac53ea-a43f-47b4-a7da-22cb135c33f1"
      },
      "execution_count": 16,
      "outputs": [
        {
          "output_type": "execute_result",
          "data": {
            "text/plain": [
              "[1, 4, 9, 16, 25, 36, 49, 64]"
            ]
          },
          "metadata": {},
          "execution_count": 16
        }
      ]
    },
    {
      "cell_type": "markdown",
      "source": [
        "Lambda function with map"
      ],
      "metadata": {
        "id": "JbOEY8jk6kde"
      }
    },
    {
      "cell_type": "code",
      "source": [
        "numbers=[1,2,3,4,5,6,7,8]\n",
        "list(map(lambda x:x*x,numbers))"
      ],
      "metadata": {
        "id": "-AswEwVLsF22",
        "colab": {
          "base_uri": "https://localhost:8080/"
        },
        "outputId": "1655b46e-e3a5-4c3d-df17-141710f23fdd"
      },
      "execution_count": 17,
      "outputs": [
        {
          "output_type": "execute_result",
          "data": {
            "text/plain": [
              "[1, 4, 9, 16, 25, 36, 49, 64]"
            ]
          },
          "metadata": {},
          "execution_count": 17
        }
      ]
    },
    {
      "cell_type": "markdown",
      "source": [
        "Map multiple itretables"
      ],
      "metadata": {
        "id": "C6nmaCFY8kPN"
      }
    },
    {
      "cell_type": "code",
      "source": [
        "numbers1=[1,2,3]\n",
        "numbers2=[4,5,6]\n",
        "added_numbers = list(map(lambda x,y:x+y, numbers1, numbers2))"
      ],
      "metadata": {
        "id": "8DMlzS7g7C7G"
      },
      "execution_count": 18,
      "outputs": []
    },
    {
      "cell_type": "code",
      "source": [
        "print(added_numbers)"
      ],
      "metadata": {
        "colab": {
          "base_uri": "https://localhost:8080/"
        },
        "id": "g5DcZaQ09D_-",
        "outputId": "4b9fab45-ceab-4ef3-f432-9f776056947f"
      },
      "execution_count": 19,
      "outputs": [
        {
          "output_type": "stream",
          "name": "stdout",
          "text": [
            "[5, 7, 9]\n"
          ]
        }
      ]
    },
    {
      "cell_type": "markdown",
      "source": [
        "map() to convert a list of strings to integers"
      ],
      "metadata": {
        "id": "rRsgJMnq9bRy"
      }
    },
    {
      "cell_type": "code",
      "source": [
        "str_numbers = ['1','2','3','4','5']\n",
        "int_numbers = list(map(int, str_numbers))\n",
        "\n",
        "print(int_numbers)   #output: []1,2,3,4,5]"
      ],
      "metadata": {
        "colab": {
          "base_uri": "https://localhost:8080/"
        },
        "id": "VXh9eVdY9JpG",
        "outputId": "470b302d-3e9e-444a-9878-e9a94b6c97e7"
      },
      "execution_count": 1,
      "outputs": [
        {
          "output_type": "stream",
          "name": "stdout",
          "text": [
            "[1, 2, 3, 4, 5]\n"
          ]
        }
      ]
    },
    {
      "cell_type": "code",
      "source": [
        "words = ['apple', 'banana', 'cherry', 'kiwi', 'mango']\n",
        "x = list(map(str.upper, words))\n",
        "print(x)"
      ],
      "metadata": {
        "colab": {
          "base_uri": "https://localhost:8080/"
        },
        "id": "pqPCCsi8uUoV",
        "outputId": "835847cb-8959-4688-9aab-2fc99ef8579c"
      },
      "execution_count": 6,
      "outputs": [
        {
          "output_type": "stream",
          "name": "stdout",
          "text": [
            "['APPLE', 'BANANA', 'CHERRY', 'KIWI', 'MANGO']\n"
          ]
        }
      ]
    },
    {
      "cell_type": "code",
      "source": [
        "def get_name(person):\n",
        "  return person['name']\n",
        "\n",
        "people=[\n",
        "    {'name':'Sahil','age':26},\n",
        "    {'name':'Akash','age':25},\n",
        "    {'name':'Aman','age':21}\n",
        "]\n",
        "list(map(get_name,people))"
      ],
      "metadata": {
        "colab": {
          "base_uri": "https://localhost:8080/"
        },
        "id": "mgH9EuwMuxG3",
        "outputId": "8e469dd8-e91e-4e27-adb5-2e5bc302c37b"
      },
      "execution_count": 9,
      "outputs": [
        {
          "output_type": "execute_result",
          "data": {
            "text/plain": [
              "['Sahil', 'Akash', 'Aman']"
            ]
          },
          "metadata": {},
          "execution_count": 9
        }
      ]
    },
    {
      "cell_type": "markdown",
      "source": [
        "## The **filter()** function in python"
      ],
      "metadata": {
        "id": "ZnBjDnwsyNmp"
      }
    },
    {
      "cell_type": "code",
      "source": [
        "def even(num):\n",
        "  if num%2==0:\n",
        "    return True"
      ],
      "metadata": {
        "id": "hMwRGPfpxiSB"
      },
      "execution_count": 10,
      "outputs": []
    },
    {
      "cell_type": "code",
      "source": [
        "even(24)"
      ],
      "metadata": {
        "colab": {
          "base_uri": "https://localhost:8080/"
        },
        "id": "sjb4IqudyfTM",
        "outputId": "ee4c8b50-1c97-40d4-b999-3ff7af3d2322"
      },
      "execution_count": 11,
      "outputs": [
        {
          "output_type": "execute_result",
          "data": {
            "text/plain": [
              "True"
            ]
          },
          "metadata": {},
          "execution_count": 11
        }
      ]
    },
    {
      "cell_type": "code",
      "source": [
        "lst = [1,2,3,4,5,6,7,8,9,10]\n",
        "list(filter(even,lst))"
      ],
      "metadata": {
        "colab": {
          "base_uri": "https://localhost:8080/"
        },
        "id": "O4Hw1-gXyhvA",
        "outputId": "f1862b5f-5c60-40a3-8b22-29dc2ec7b8fd"
      },
      "execution_count": 15,
      "outputs": [
        {
          "output_type": "execute_result",
          "data": {
            "text/plain": [
              "[2, 4, 6, 8, 10]"
            ]
          },
          "metadata": {},
          "execution_count": 15
        }
      ]
    },
    {
      "cell_type": "markdown",
      "source": [
        "### Filter() with Lambda() Function"
      ],
      "metadata": {
        "id": "FjPvWA8tznbk"
      }
    },
    {
      "cell_type": "code",
      "source": [
        "numbers = [1,2,3,4,5,6,7,8,9,10]\n",
        "greater_then_five = list(filter(lambda x:x>5,numbers))"
      ],
      "metadata": {
        "id": "OGlqFKMDzXm1"
      },
      "execution_count": 16,
      "outputs": []
    },
    {
      "cell_type": "code",
      "source": [
        "greater_then_five"
      ],
      "metadata": {
        "colab": {
          "base_uri": "https://localhost:8080/"
        },
        "id": "gPBTvp6sz3-O",
        "outputId": "bc5aa497-5d7b-43c5-fad7-4219256fcca2"
      },
      "execution_count": 17,
      "outputs": [
        {
          "output_type": "execute_result",
          "data": {
            "text/plain": [
              "[6, 7, 8, 9, 10]"
            ]
          },
          "metadata": {},
          "execution_count": 17
        }
      ]
    },
    {
      "cell_type": "markdown",
      "source": [
        "filter with lambda function and multiple conditions"
      ],
      "metadata": {
        "id": "A78FafIQ0NBB"
      }
    },
    {
      "cell_type": "code",
      "source": [
        "numbers = [1,2,3,4,5,6,7,8,9]\n",
        "even_and_greater_then_five = list(filter(lambda x:(x%2==0 and x>5),numbers))"
      ],
      "metadata": {
        "id": "jSGD0fEzz5Lr"
      },
      "execution_count": 18,
      "outputs": []
    },
    {
      "cell_type": "code",
      "source": [
        "even_and_greater_then_five"
      ],
      "metadata": {
        "colab": {
          "base_uri": "https://localhost:8080/"
        },
        "id": "XFJK61ra0o5z",
        "outputId": "5c4224b2-8bbe-4b32-ca02-98cdb0322bf2"
      },
      "execution_count": 19,
      "outputs": [
        {
          "output_type": "execute_result",
          "data": {
            "text/plain": [
              "[6, 8]"
            ]
          },
          "metadata": {},
          "execution_count": 19
        }
      ]
    },
    {
      "cell_type": "markdown",
      "source": [
        "Apply filter to check if the age isgreater than 25 in dictonary"
      ],
      "metadata": {
        "id": "Vg6PxpQC03Hw"
      }
    },
    {
      "cell_type": "code",
      "source": [
        "def get_name(person):\n",
        "  return person['name']\n",
        "\n",
        "people=[\n",
        "    {'name':'Sahil','age':26},\n",
        "    {'name':'Akash','age':25},\n",
        "    {'name':'Aman','age':21}\n",
        "]\n",
        "def age_greater_than_25(person):\n",
        "  return person['age']>=25\n",
        "\n",
        "list(filter(age_greater_than_25,people))"
      ],
      "metadata": {
        "colab": {
          "base_uri": "https://localhost:8080/"
        },
        "id": "aG6Ne_jT0qPj",
        "outputId": "d1dc82c4-aacf-4868-bdc9-cd505a7dbed3"
      },
      "execution_count": 25,
      "outputs": [
        {
          "output_type": "execute_result",
          "data": {
            "text/plain": [
              "[{'name': 'Sahil', 'age': 26}, {'name': 'Akash', 'age': 25}]"
            ]
          },
          "metadata": {},
          "execution_count": 25
        }
      ]
    },
    {
      "cell_type": "markdown",
      "source": [
        "## **Conclusion**"
      ],
      "metadata": {
        "id": "04UZislN2reN"
      }
    },
    {
      "cell_type": "markdown",
      "source": [
        "The filter() function is a powerful tool for creating iterators that filter items out of an iterable based on a function. It is commanly used for data cleaning, filtering objects, and removing unwanted elements from lists. By mastering filter() , you can write more concise and efficient code for processing and manipulating collection in python."
      ],
      "metadata": {
        "id": "RSscKtf02wn9"
      }
    },
    {
      "cell_type": "code",
      "source": [],
      "metadata": {
        "id": "3qe4E3u32PM0"
      },
      "execution_count": null,
      "outputs": []
    }
  ]
}
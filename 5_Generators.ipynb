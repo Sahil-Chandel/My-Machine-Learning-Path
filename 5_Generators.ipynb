{
  "nbformat": 4,
  "nbformat_minor": 0,
  "metadata": {
    "colab": {
      "provenance": []
    },
    "kernelspec": {
      "name": "python3",
      "display_name": "Python 3"
    },
    "language_info": {
      "name": "python"
    }
  },
  "cells": [
    {
      "cell_type": "markdown",
      "source": [
        "Generators are a simpler way to create iterators. they use the yield keyword to produce a series of values lazily,\n",
        "which means they generate values on the fly and do not store them in memory."
      ],
      "metadata": {
        "id": "YMTldCXPDqbx"
      }
    },
    {
      "cell_type": "code",
      "execution_count": null,
      "metadata": {
        "id": "Hp7ozsmpDbmJ"
      },
      "outputs": [],
      "source": [
        "def square(n):\n",
        "  for i in range(3):\n",
        "    yield i**2"
      ]
    },
    {
      "cell_type": "code",
      "source": [
        " a = square(3)\n",
        " a"
      ],
      "metadata": {
        "colab": {
          "base_uri": "https://localhost:8080/"
        },
        "id": "mwc2wZ-BFFpG",
        "outputId": "f2cca71b-bb4e-4d16-9ba2-e80f0241c182"
      },
      "execution_count": null,
      "outputs": [
        {
          "output_type": "execute_result",
          "data": {
            "text/plain": [
              "<generator object square at 0x7e0761a95b60>"
            ]
          },
          "metadata": {},
          "execution_count": 7
        }
      ]
    },
    {
      "cell_type": "code",
      "source": [
        "for i in square(3):\n",
        "  print(i)"
      ],
      "metadata": {
        "colab": {
          "base_uri": "https://localhost:8080/"
        },
        "id": "0xjatTl8FJuu",
        "outputId": "78438826-d20b-4d32-c64a-35aefea1aeb4"
      },
      "execution_count": null,
      "outputs": [
        {
          "output_type": "stream",
          "name": "stdout",
          "text": [
            "0\n",
            "1\n",
            "4\n"
          ]
        }
      ]
    },
    {
      "cell_type": "code",
      "source": [
        "def my_generator():\n",
        "  yield 1\n",
        "  yield 2\n",
        "  yield 3"
      ],
      "metadata": {
        "id": "mkWVO-uFFjm_"
      },
      "execution_count": 1,
      "outputs": []
    },
    {
      "cell_type": "code",
      "source": [
        "gen=my_generator()\n",
        "gen"
      ],
      "metadata": {
        "colab": {
          "base_uri": "https://localhost:8080/"
        },
        "id": "Z_xOFUyL-k6a",
        "outputId": "642c2051-d2e9-4fc4-daec-2d2a0cce310b"
      },
      "execution_count": 2,
      "outputs": [
        {
          "output_type": "execute_result",
          "data": {
            "text/plain": [
              "<generator object my_generator at 0x797a27cd0a50>"
            ]
          },
          "metadata": {},
          "execution_count": 2
        }
      ]
    },
    {
      "cell_type": "code",
      "source": [
        "next(gen)"
      ],
      "metadata": {
        "colab": {
          "base_uri": "https://localhost:8080/"
        },
        "id": "bp9i5d-W-tr0",
        "outputId": "21b67451-fc45-465c-baad-652ba6bd69ef"
      },
      "execution_count": 3,
      "outputs": [
        {
          "output_type": "execute_result",
          "data": {
            "text/plain": [
              "1"
            ]
          },
          "metadata": {},
          "execution_count": 3
        }
      ]
    },
    {
      "cell_type": "code",
      "source": [
        "for val in gen:\n",
        "  print(val)"
      ],
      "metadata": {
        "colab": {
          "base_uri": "https://localhost:8080/"
        },
        "id": "XEwXFE9c-wP0",
        "outputId": "c725aa0b-eebc-48fc-bc50-53d1b0ed321c"
      },
      "execution_count": 4,
      "outputs": [
        {
          "output_type": "stream",
          "name": "stdout",
          "text": [
            "2\n",
            "3\n"
          ]
        }
      ]
    },
    {
      "cell_type": "markdown",
      "source": [
        "# **Practicle Example** : Readng Large files\n",
        "Generators are particularly useful for reading large files because they allow you to process one line at a time without loading the entire inti memory"
      ],
      "metadata": {
        "id": "z9KOI_vD_g59"
      }
    },
    {
      "cell_type": "code",
      "source": [
        "def read_large_file(file_path):\n",
        "  with open(file_path,'r') as file:\n",
        "    for line in file:\n",
        "      yield line"
      ],
      "metadata": {
        "id": "87ItA3pu_b4l"
      },
      "execution_count": 5,
      "outputs": []
    },
    {
      "cell_type": "code",
      "source": [
        "file_path = 'large_file.txt'\n",
        "\n",
        "for line in read_large_file(file_path):\n",
        "  print(line.strip())"
      ],
      "metadata": {
        "colab": {
          "base_uri": "https://localhost:8080/"
        },
        "id": "0xC7DU5VAvtw",
        "outputId": "e28218ae-89c0-453e-e36f-ae42926f7f33"
      },
      "execution_count": 6,
      "outputs": [
        {
          "output_type": "stream",
          "name": "stdout",
          "text": [
            "In Python, a generator is a function or\n",
            "expression that will process a\n",
            "given iterable one object at a time,\n",
            "on demand.\n",
            "A generator will return a generator\n",
            "object,\n",
            "which can be cast as a list or some other data structure as appropriate\n"
          ]
        }
      ]
    },
    {
      "cell_type": "code",
      "source": [],
      "metadata": {
        "id": "jxOm6nlCBGA_"
      },
      "execution_count": null,
      "outputs": []
    }
  ]
}